{
 "cells": [
  {
   "cell_type": "markdown",
   "id": "56def6cf-6cb5-4cb3-b714-15dde076eb39",
   "metadata": {},
   "source": [
    "# Papers Past Genre Classification\n",
    "---"
   ]
  },
  {
   "cell_type": "markdown",
   "id": "45e5f6d9-a4a6-4385-b267-9893beb76b29",
   "metadata": {},
   "source": [
    "<div class=\"alert alert-success\">\n",
    "    <h3>Installing the required libraries</h3>\n",
    "    <p>\n",
    "        <li>The genre sampling and classification process implemented in these notebooks uses a number of Python libraries.\n",
    "        <li>Information on how to install Jupyter Notebook and the IPython kernel can be found <a href=\"https://docs.jupyter.org/en/latest/install/notebook-classic.html\">here</a>.\n",
    "        <li>The required libraries can be installed by running the cell below. This only needs to be done once. \n",
    "        <li>Once the libraries are installed on your system they can be imported as required for each notebook.\n",
    "        <li>If you already have some of these libraries installed, simply comment out the ones you don't need.\n",
    "        <li> Prodigy was used for labelling (Notebook 2). More information can be found <a href=\"https://prodi.gy/\">here</a>. \n",
    "        <li>Labelling is not required to run the end-to-end notebooks for sampling poetry, fiction, family notices, or letters to the editor.\n",
    "</div>"
   ]
  },
  {
   "cell_type": "markdown",
   "id": "8c61f7b4-ec60-443d-83e6-a28474d680cc",
   "metadata": {},
   "source": [
    "Information about the code used to install the libraries can be found here: \n",
    "\n",
    "https://stackoverflow.com/questions/70343350/what-does-sys-executable-do-in-jupyter-notebook"
   ]
  },
  {
   "cell_type": "code",
   "execution_count": null,
   "id": "460ca99d-b2e2-4d38-b9bd-33584e66257a",
   "metadata": {},
   "outputs": [],
   "source": [
    "import sys\n",
    "\n",
    "!{sys.executable} -m pip install spacy --user\n",
    "!{sys.executable} -m spacy download en_core_web_lg --user\n",
    "!{sys.executable} -m pip install scikit-learn --user\n",
    "!{sys.executable} -m pip install textstat --user\n",
    "!{sys.executable} -m pip install numpy --user\n",
    "!{sys.executable} -m pip install pandas --user\n",
    "!{sys.executable} -m pip install textfeatures --user\n",
    "!{sys.executable} -m pip install nltk --user\n",
    "!{sys.executable} -m pip install matplotlib --user\n",
    "!{sys.executable} -m pip install seaborn --user"
   ]
  },
  {
   "cell_type": "code",
   "execution_count": null,
   "id": "029f3758-44ac-4a3d-b499-f92df1940340",
   "metadata": {},
   "outputs": [],
   "source": []
  }
 ],
 "metadata": {
  "kernelspec": {
   "display_name": "Python 3 (ipykernel)",
   "language": "python",
   "name": "python3"
  },
  "language_info": {
   "codemirror_mode": {
    "name": "ipython",
    "version": 3
   },
   "file_extension": ".py",
   "mimetype": "text/x-python",
   "name": "python",
   "nbconvert_exporter": "python",
   "pygments_lexer": "ipython3",
   "version": "3.9.2"
  }
 },
 "nbformat": 4,
 "nbformat_minor": 5
}
